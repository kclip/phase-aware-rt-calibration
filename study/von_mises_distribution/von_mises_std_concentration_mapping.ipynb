{
 "cells": [
  {
   "cell_type": "code",
   "execution_count": null,
   "id": "7a59c511",
   "metadata": {},
   "outputs": [],
   "source": [
    "%load_ext autoreload\n",
    "%autoreload 2\n",
    "\n",
    "import numpy as np\n",
    "import tensorflow_probability as tfp\n",
    "\n",
    "_NUMERICAL_PRECISION_CONCENTRATION = 3  # Keep concentration values up to 3 decimals\n",
    "\n",
    "MEAN = 0.0\n",
    "N_POINTS = int(1e5)\n",
    "\n",
    "concentrations = np.logspace(-3, 6, N_POINTS)\n",
    "# concentrations = np.linspace(0.0, MAX_CONCENTRATION, N_POINTS)\n",
    "concentrations[0] = 0.0"
   ]
  },
  {
   "cell_type": "markdown",
   "id": "20370cf7",
   "metadata": {},
   "source": [
    "## Compute standard deviations "
   ]
  },
  {
   "cell_type": "code",
   "execution_count": null,
   "id": "552473c9",
   "metadata": {},
   "outputs": [],
   "source": [
    "%autoreload 2\n",
    "\n",
    "# Compute variance from samples\n",
    "\n",
    "N_SAMPLES = 100\n",
    "means = np.repeat(MEAN, N_POINTS)\n",
    "vm_dist = tfp.distributions.VonMises(loc=means, concentration=concentrations)\n",
    "phases_samples = vm_dist.sample(N_SAMPLES)\n",
    "phases_samples = np.mod(phases_samples + np.pi, 2 * np.pi) - np.pi\n",
    "phases_samples_var = np.mean(np.power(phases_samples, 2), axis=0)\n",
    "phases_samples_std = np.sqrt(phases_samples_var)\n",
    "phases_samples_std"
   ]
  },
  {
   "cell_type": "code",
   "execution_count": null,
   "id": "1c7fa792",
   "metadata": {},
   "outputs": [],
   "source": [
    "%autoreload 2\n",
    "\n",
    "# Compute phase variance from integral\n",
    "\n",
    "import scipy as scp\n",
    "\n",
    "def get_exp_scaled_function_to_integrate(concentration: float):\n",
    "    \"\"\"\n",
    "    Get the exponentially scaled function to integrate for computing the variance.\n",
    "    Original function: x^2 * exp(concentration * cos(x))\n",
    "    Exponentially scaled: exp(-concentration) x^2 * exp(concentration * cos(x))\n",
    "    i.e. x^2 * exp(concentration * (cos(x) - 1))\n",
    "    \"\"\"\n",
    "    def _aux(x):\n",
    "        return np.power(x, 2) * np.exp(concentration * (np.cos(x) - 1))\n",
    "    return _aux\n",
    "\n",
    "def log_bessel(x):\n",
    "    \"\"\"Numerically stable computation of log(I_0(x))\"\"\"\n",
    "    return np.log(scp.special.i0e(x)) + x\n",
    "\n",
    "phases_std = []\n",
    "for con in concentrations:\n",
    "    # Compute exponentially scaled integral for numerical stability\n",
    "    exp_scaled_integ = scp.integrate.quad(get_exp_scaled_function_to_integrate(con), 0, np.pi)\n",
    "    # Get non-exp scaled log-variance\n",
    "    log_variance = con + np.log(exp_scaled_integ[0] / np.pi) - log_bessel(con)\n",
    "    variance = np.exp(log_variance)\n",
    "    phases_std.append(np.sqrt(variance))\n",
    "\n",
    "phases_std = np.array(phases_std, dtype=np.float64)"
   ]
  },
  {
   "cell_type": "code",
   "execution_count": null,
   "id": "68e8fa79",
   "metadata": {},
   "outputs": [],
   "source": [
    "%autoreload 2\n",
    "\n",
    "import scipy as scp\n",
    "import matplotlib.pyplot as plt\n",
    "\n",
    "fig, ax = plt.subplots()\n",
    "# ax.plot(concentrations, phases_samples_std)\n",
    "ax.set_xscale(\"log\")\n",
    "ax.plot(concentrations, phases_std)"
   ]
  },
  {
   "cell_type": "markdown",
   "id": "ce9b49a7",
   "metadata": {},
   "source": [
    "## Store (phase std, von Mises concentration) array"
   ]
  },
  {
   "cell_type": "code",
   "execution_count": null,
   "id": "06ca4235",
   "metadata": {},
   "outputs": [],
   "source": [
    "%autoreload 2\n",
    "\n",
    "import numpy as np\n",
    "\n",
    "from src.utils.save_utils import SafeOpen\n",
    "from study.calibration.utils import VON_MISES_STD_CONCENTRATION_MAPPING_FOLDER, VON_MISES_STD_CONCENTRATION_ARRAY_FILENAME\n",
    "\n",
    "std_concentration_array = np.array([concentrations, phases_std])\n",
    "std_concentration_array = np.transpose(std_concentration_array)\n",
    "\n",
    "with SafeOpen(VON_MISES_STD_CONCENTRATION_MAPPING_FOLDER, VON_MISES_STD_CONCENTRATION_ARRAY_FILENAME, \"wb\") as file:\n",
    "    np.save(file, std_concentration_array)"
   ]
  },
  {
   "cell_type": "markdown",
   "id": "8c56e096",
   "metadata": {},
   "source": [
    "## Select (std, concentration) mapping for experiments"
   ]
  },
  {
   "cell_type": "code",
   "execution_count": null,
   "id": "dcfbd89e",
   "metadata": {},
   "outputs": [],
   "source": [
    "%autoreload 2\n",
    "\n",
    "N_SELECTED_STD = 10\n",
    "\n",
    "min_std = min(phases_std)\n",
    "max_std = max(phases_std)\n",
    "\n",
    "\n",
    "selected_std = np.linspace(min_std, max_std, N_SELECTED_STD, endpoint=True)\n",
    "\n",
    "print(f\"Selected std angles (deg): {selected_std * (180 / np.pi)}\")\n",
    "selected_std"
   ]
  },
  {
   "cell_type": "code",
   "execution_count": null,
   "id": "17a46ea7",
   "metadata": {},
   "outputs": [],
   "source": [
    "%autoreload 2\n",
    "\n",
    "indexes_concentration = []\n",
    "errors = []\n",
    "for std in selected_std:\n",
    "    std_error = np.abs(phases_std - std)\n",
    "    idx = np.argmin(std_error)\n",
    "    indexes_concentration.append(idx)\n",
    "    errors.append(std_error[idx])\n",
    "\n",
    "indexes_concentration = np.array(indexes_concentration, dtype=np.int64)\n",
    "errors = np.array(errors, dtype=np.float32)\n",
    "\n",
    "selected_concentrations = concentrations[indexes_concentration]\n",
    "\n",
    "print(f\"Selected concentrations: {selected_concentrations}\")\n",
    "print(f\"With std errors: {errors}\")\n",
    "\n",
    "fig, ax = plt.subplots()\n",
    "ax.plot(selected_std, selected_concentrations, marker=\"o\")\n",
    "ax.set_yscale(\"log\")"
   ]
  },
  {
   "cell_type": "code",
   "execution_count": null,
   "id": "680491fe",
   "metadata": {},
   "outputs": [],
   "source": [
    "np.array([1,2,5, np.nan])\n"
   ]
  },
  {
   "cell_type": "markdown",
   "id": "60a29015",
   "metadata": {},
   "source": [
    "## Final mapping and save"
   ]
  },
  {
   "cell_type": "code",
   "execution_count": null,
   "id": "7334f791",
   "metadata": {},
   "outputs": [],
   "source": [
    "%autoreload 2\n",
    "\n",
    "import os\n",
    "import json\n",
    "from src.utils.save_utils import SafeOpen\n",
    "from study.calibration.utils import VON_MISES_STD_CONCENTRATION_MAPPING_FOLDER, get_von_mises_std_concentration_mapping_filename\n",
    "\n",
    "\n",
    "perfect_phase_mapping = {\"std\": 0.0, \"concentration\": \"_infinity\"}\n",
    "von_mises_std_concentration_mapping = [\n",
    "    {\n",
    "        \"std\": std,\n",
    "        \"concentration\": round(concentration, _NUMERICAL_PRECISION_CONCENTRATION)\n",
    "    }\n",
    "    for std, concentration in zip(selected_std, selected_concentrations)\n",
    "]\n",
    "# Replace min std (should be very close to 0.0) with perfect phase scenario\n",
    "print(f\"Replacing mapping {von_mises_std_concentration_mapping[0]} with {perfect_phase_mapping}\")\n",
    "von_mises_std_concentration_mapping[0] = perfect_phase_mapping\n",
    "\n",
    "with SafeOpen(VON_MISES_STD_CONCENTRATION_MAPPING_FOLDER, get_von_mises_std_concentration_mapping_filename(N_SELECTED_STD), \"w\") as file:\n",
    "    json.dump(von_mises_std_concentration_mapping, file)"
   ]
  }
 ],
 "metadata": {
  "kernelspec": {
   "display_name": "ray-tracing-multipath",
   "language": "python",
   "name": "ray-tracing-multipath"
  },
  "language_info": {
   "codemirror_mode": {
    "name": "ipython",
    "version": 3
   },
   "file_extension": ".py",
   "mimetype": "text/x-python",
   "name": "python",
   "nbconvert_exporter": "python",
   "pygments_lexer": "ipython3",
   "version": "3.8.17"
  }
 },
 "nbformat": 4,
 "nbformat_minor": 5
}
